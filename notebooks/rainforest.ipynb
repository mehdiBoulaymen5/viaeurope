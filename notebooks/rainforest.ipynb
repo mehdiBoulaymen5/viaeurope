{
 "cells": [
  {
   "cell_type": "markdown",
   "id": "d0117717",
   "metadata": {},
   "source": [
    "### via europe code "
   ]
  },
  {
   "cell_type": "code",
   "execution_count": 1,
   "id": "ed20713c",
   "metadata": {},
   "outputs": [],
   "source": [
    "asins = ['B0038ZIY9I',\n",
    "'B0041L70Q6',\n",
    "'B00509CI38',\n",
    "'B005F8U502',\n",
    "'B00B4RT5HW',\n",
    "'B00WDZ9HVI',\n",
    "'B01CYMJEAS',\n",
    "'B01JRXTOIE',\n",
    "'B01N9LYY90',\n",
    "'B06ZXZWB8F',\n",
    "'B072XMZ7J9',\n",
    "'B073LYWDJH',\n",
    "'B074MYSX1Y',\n",
    "'B074P1FX4K',\n",
    "'B075DR9ZPT',\n",
    "'B076DS6BT4']\n"
   ]
  },
  {
   "cell_type": "code",
   "execution_count": 2,
   "id": "162df726",
   "metadata": {},
   "outputs": [],
   "source": [
    "import requests\n",
    "import json\n",
    "import pandas as pd\n",
    "import openpyxl"
   ]
  },
  {
   "cell_type": "markdown",
   "id": "2e592dfd",
   "metadata": {},
   "source": [
    "## rainforest "
   ]
  },
  {
   "cell_type": "code",
   "execution_count": 10,
   "id": "427fb14b",
   "metadata": {
    "scrolled": false
   },
   "outputs": [],
   "source": [
    "# Read the Excel file into a pandas DataFrame\n",
    "import pandas as pd\n",
    "df = pd.read_excel('../documents/Taric Code_Test file.xlsx')\n",
    "df =df[~df['ASIN'].isna()]"
   ]
  },
  {
   "cell_type": "code",
   "execution_count": 11,
   "id": "0af043c9",
   "metadata": {},
   "outputs": [
    {
     "data": {
      "text/plain": [
       "['B09RDXKH4V',\n",
       " 'B0BMG63KL4',\n",
       " 'B09C823KH1',\n",
       " 'B08GYMPKSQ',\n",
       " 'B08L5QRS6N',\n",
       " 'B092HYB96D',\n",
       " 'B07FPKPQT5',\n",
       " 'B09WLV6BZ5',\n",
       " 'B09LV5PQ9Q',\n",
       " 'B09QKTLJY9']"
      ]
     },
     "execution_count": 11,
     "metadata": {},
     "output_type": "execute_result"
    }
   ],
   "source": [
    "asins_df = list(df.ASIN)\n",
    "asins_df"
   ]
  },
  {
   "cell_type": "code",
   "execution_count": 21,
   "id": "b765556b",
   "metadata": {},
   "outputs": [],
   "source": [
    "asin = 'B076DS6BT4'\n",
    "asin = 'B0041L70Q6'\n",
    "asin = 'B0BMG63KL4'# test on one asin \n",
    "rainforest_api_key = '2BE30AF36DC7483AA7FE7E9CA64F46FD'\n",
    "amazon_domain = 'amazon.de'"
   ]
  },
  {
   "cell_type": "code",
   "execution_count": 19,
   "id": "18893433",
   "metadata": {},
   "outputs": [],
   "source": [
    "def scrap_asin (asin ,rainforest_api_key , amazon_domain  ):\n",
    "    params = {\n",
    "              'api_key': rainforest_api_key,\n",
    "              'amazon_domain': amazon_domain,\n",
    "              'asin': asin,\n",
    "              'type': 'product'}\n",
    "    api_result = requests.get('https://api.rainforestapi.com/request', params)\n",
    "    api_json = api_result.json()\n",
    "    return api_json "
   ]
  },
  {
   "cell_type": "code",
   "execution_count": 14,
   "id": "ff164cca",
   "metadata": {},
   "outputs": [],
   "source": [
    "def extract_features(api_json) : \n",
    "    specs = api_json['product']['specifications']\n",
    "    title = api_json['product']['title']\n",
    "    columns = [x['name'] for x in specs]\n",
    "    values = [x['value'] for x in specs]\n",
    "    df_spec = pd.DataFrame([values], columns=columns)\n",
    "    df_spec['title'] = title\n",
    "    return df_spec"
   ]
  },
  {
   "cell_type": "code",
   "execution_count": 22,
   "id": "96b8dc29",
   "metadata": {},
   "outputs": [],
   "source": [
    "\n",
    "api_json_ = scrap_asin (asin ,rainforest_api_key , amazon_domain  )"
   ]
  },
  {
   "cell_type": "code",
   "execution_count": 23,
   "id": "2edee948",
   "metadata": {
    "scrolled": true
   },
   "outputs": [
    {
     "data": {
      "text/plain": [
       "True"
      ]
     },
     "execution_count": 23,
     "metadata": {},
     "output_type": "execute_result"
    }
   ],
   "source": [
    "api_json_['request_info']['success']"
   ]
  },
  {
   "cell_type": "code",
   "execution_count": 154,
   "id": "e57847f8",
   "metadata": {
    "scrolled": true
   },
   "outputs": [
    {
     "name": "stdout",
     "output_type": "stream",
     "text": [
      "title\n",
      "search_alias\n",
      "keywords\n",
      "keywords_list\n",
      "asin\n",
      "link\n",
      "brand\n",
      "sell_on_amazon\n",
      "categories\n",
      "categories_flat\n",
      "description\n",
      "sub_title\n",
      "rating\n",
      "rating_breakdown\n",
      "ratings_total\n",
      "main_image\n",
      "images\n",
      "images_count\n",
      "images_flat\n",
      "is_bundle\n",
      "attributes\n",
      "top_reviews\n",
      "buybox_winner\n",
      "specifications\n",
      "specifications_flat\n",
      "color\n",
      "weight\n",
      "first_available\n",
      "dimensions\n",
      "model_number\n"
     ]
    }
   ],
   "source": [
    "for key in api_json_['product'].keys() : \n",
    "    print(key)"
   ]
  },
  {
   "cell_type": "code",
   "execution_count": 25,
   "id": "1dd78089",
   "metadata": {},
   "outputs": [
    {
     "data": {
      "text/plain": [
       "'Colexy Frischhaltedose für Aufschnitt Fresh System, Lebensmittelkonservierung Lebensmittelbehälter, Frischhaltedose zur Aufbewahrung von Wurs, Optimale Aufbewahrung im Kühlschrank, 22x15x5cm'"
      ]
     },
     "execution_count": 25,
     "metadata": {},
     "output_type": "execute_result"
    }
   ],
   "source": [
    "api_json_['product']['title']"
   ]
  },
  {
   "cell_type": "code",
   "execution_count": 26,
   "id": "49ffec7d",
   "metadata": {},
   "outputs": [
    {
     "data": {
      "text/plain": [
       "{'title': 'Colexy Frischhaltedose für Aufschnitt Fresh System, Lebensmittelkonservierung Lebensmittelbehälter, Frischhaltedose zur Aufbewahrung von Wurs, Optimale Aufbewahrung im Kühlschrank, 22x15x5cm',\n",
       " 'search_alias': {'title': 'Baumarkt', 'value': 'diy'},\n",
       " 'keywords': 'Colexy,Frischhaltedose,für,Aufschnitt,Fresh,System,,Lebensmittelkonservierung,Lebensmittelbehälter,,Frischhaltedose,zur,Aufbewahrung,von,Wurs,,Optimale,Aufbewahrung,im,Kühlschrank,,22x15x5cm',\n",
       " 'keywords_list': ['Colexy',\n",
       "  'Frischhaltedose',\n",
       "  'Aufschnitt',\n",
       "  'Fresh',\n",
       "  'System',\n",
       "  'Lebensmittelkonservierung',\n",
       "  'Lebensmittelbehälter',\n",
       "  'Frischhaltedose',\n",
       "  'Aufbewahrung',\n",
       "  'Wurs',\n",
       "  'Optimale',\n",
       "  'Aufbewahrung',\n",
       "  'Kühlschrank',\n",
       "  '22x15x5cm'],\n",
       " 'asin': 'B0BMG63KL4',\n",
       " 'link': 'https://www.amazon.de/Colexy-Frischhaltedose-Lebensmittelkonservierung-Lebensmittelbeh%C3%A4lter-Aufbewahrung/dp/B0BMG63KL4',\n",
       " 'brand': 'Colexy',\n",
       " 'sell_on_amazon': True,\n",
       " 'categories': [{'name': 'Baumarkt'},\n",
       "  {'name': 'Küche, Haushalt & Wohnen',\n",
       "   'link': 'https://www.amazon.de/k%C3%83%C2%BCche-haushalt-wohnen/b/ref=dp_bc_aui_C_1?ie=UTF8&node=3167641',\n",
       "   'category_id': '3167641'},\n",
       "  {'name': 'Küche, Kochen & Backen',\n",
       "   'link': 'https://www.amazon.de/b/ref=dp_bc_aui_C_2?ie=UTF8&node=20679858031',\n",
       "   'category_id': '20679858031'},\n",
       "  {'name': 'Aufbewahrung & Organisation',\n",
       "   'link': 'https://www.amazon.de/Aufbewahrung-Ordnungssysteme-Kueche/b/ref=dp_bc_aui_C_3?ie=UTF8&node=3437570031',\n",
       "   'category_id': '3437570031'},\n",
       "  {'name': 'Lebensmittelaufbewahrung',\n",
       "   'link': 'https://www.amazon.de/Lebensmittelaufbewahrung-K%C3%BCchenger%C3%A4te-Kochgeschirr/b/ref=dp_bc_aui_C_4?ie=UTF8&node=3311661',\n",
       "   'category_id': '3311661'},\n",
       "  {'name': 'Vorratsbehälter',\n",
       "   'link': 'https://www.amazon.de/Vorratsbehaelter/b/ref=dp_bc_aui_C_5?ie=UTF8&node=3437581031',\n",
       "   'category_id': '3437581031'},\n",
       "  {'name': 'Vorratsdosen',\n",
       "   'link': 'https://www.amazon.de/Vorratsdosen-schalen-Lebensmittelaufbewahrung-K%C3%BCchenger%C3%A4te-Kochgeschirr/b/ref=dp_bc_aui_C_6?ie=UTF8&node=3311691',\n",
       "   'category_id': '3311691'}],\n",
       " 'categories_flat': 'Baumarkt > Küche, Haushalt & Wohnen > Küche, Kochen & Backen > Aufbewahrung & Organisation > Lebensmittelaufbewahrung > Vorratsbehälter > Vorratsdosen',\n",
       " 'description': 'PRODUKTBESCHREIBUNGEN \\n Im Kühlschrank verwendbar\\nSicher im Kühlschrank bei -20 °C zu verwenden, um die Frische zu versiegeln.\\n\\nWiederverwendbar\\nReduzieren Sie die Abfallmenge, die auf Deponien entsorgt wird, indem Sie wiederverwendbare Lagerbehälter verwenden.\\n\\nGute Abdichtung\\nMit PRESS-on-Lock-Design, guter Versiegelungswirkung, anhaltender Frische, Blockierung von verdorbenem Geschmack.\\n\\nPlatzsparendes Design\\nBehälter und Deckel können gestapelt und zum Aufbewahren all Ihrer Lieblingsspeisen, Mittagessen, Reste usw. verwendet werden.\\n\\nMikrowellengeeignet\\nNach dem Abnehmen des Deckels kann der Boden direkt in die Mikrowelle gestellt werden (nicht dauerhaft über 80°C erhitzen)\\n\\nVielseitig, langlebig und strapazierfähig\\nMit Lösungen für alle Ihre Anforderungen an die Lebensmittellagerung. Mit benutzerfreundlichen Verschlussclips und flexiblem Verschluss bleiben Lebensmittel länger frisch.\\n\\nSpezifikation:\\nFarbe: Hellgrün\\nProduktabmessungen: 22 x 15 x 5 cm Material: \\u200eKunststoff, Silikon\\nArtikelgewicht: 165 g\\n\\nPaket beinhaltet:\\n1 * Wurstaufbewahrungsbox für Kühlschrank (Hellgrün)',\n",
       " 'sub_title': {'text': 'Marke: Colexy',\n",
       "  'link': 'https://www.amazon.de/s/ref=bl_dp_s_web_0?ie=UTF8&search-type=ss&index=diy&field-keywords=Colexy'},\n",
       " 'marketplace_id': 'A1PA6795UKMFR9',\n",
       " 'main_image': {'link': 'https://m.media-amazon.com/images/I/51xm9AqJ0rL.jpg'},\n",
       " 'images': [{'link': 'https://m.media-amazon.com/images/I/51xm9AqJ0rL._AC_SL1500_.jpg',\n",
       "   'variant': 'MAIN'},\n",
       "  {'link': 'https://m.media-amazon.com/images/I/51i6FNEFiqL._AC_SL1500_.jpg',\n",
       "   'variant': 'PT01'},\n",
       "  {'link': 'https://m.media-amazon.com/images/I/71aHNgVupoL._AC_SL1500_.jpg',\n",
       "   'variant': 'PT02'},\n",
       "  {'link': 'https://m.media-amazon.com/images/I/51HnQVwL1OL._AC_SL1500_.jpg',\n",
       "   'variant': 'PT03'},\n",
       "  {'link': 'https://m.media-amazon.com/images/I/61sKE1AmtaL._AC_SL1500_.jpg',\n",
       "   'variant': 'PT04'},\n",
       "  {'link': 'https://m.media-amazon.com/images/I/7154DBK0HWL._AC_SL1500_.jpg',\n",
       "   'variant': 'PT05'},\n",
       "  {'link': 'https://m.media-amazon.com/images/I/711JDzqoiNL._AC_SL1500_.jpg',\n",
       "   'variant': 'PT06'},\n",
       "  {'link': 'https://m.media-amazon.com/images/I/51s3Iu+xd7L._AC_SL1500_.jpg',\n",
       "   'variant': 'PT07'}],\n",
       " 'images_count': 8,\n",
       " 'images_flat': 'https://m.media-amazon.com/images/I/51xm9AqJ0rL._AC_SL1500_.jpg,https://m.media-amazon.com/images/I/51i6FNEFiqL._AC_SL1500_.jpg,https://m.media-amazon.com/images/I/71aHNgVupoL._AC_SL1500_.jpg,https://m.media-amazon.com/images/I/51HnQVwL1OL._AC_SL1500_.jpg,https://m.media-amazon.com/images/I/61sKE1AmtaL._AC_SL1500_.jpg,https://m.media-amazon.com/images/I/7154DBK0HWL._AC_SL1500_.jpg,https://m.media-amazon.com/images/I/711JDzqoiNL._AC_SL1500_.jpg,https://m.media-amazon.com/images/I/51s3Iu+xd7L._AC_SL1500_.jpg',\n",
       " 'is_bundle': False,\n",
       " 'feature_bullets': ['【Lebensmittelbehälter mit großem Fassungsvermögen】 Lebensmittelkonservierungsschale (22 * 15 * 5 cm) hat 2 Verwendungsmöglichkeiten mit vorderen und hinteren Schnappdeckeln, mit Schnappverschluss-Design, guter Dichtwirkung, anhaltender Frische und Blockierung von verdorbenem Geschmack.',\n",
       "  '【Sicheres Material】 Umweltfreundliches PP/TPU-Material, BPA-frei, grüne Lebensmittelqualität, schmutzabweisendes Material lässt Lebensmittelbehälter aus Kunststoff wie neu aussehen und widersteht Gerüchen; Verhindern Sie unangenehme Lecks oder Verschüttungen in Ihren Taschen oder Ihrem Kühlschrank.',\n",
       "  '【Mikrowellen-, gefrier- und spülmaschinenfest】 Dieser Lebensmittelbehälter ist spülmaschinen-, mikrowellen- und gefriergeeignet. Und beachten Sie, dass Sie die kleine Kappe vom Deckel entfernen, bevor Sie sie in die Mikrowelle stellen, um die Luft während des Erhitzens abzulassen.',\n",
       "  '【Stapelbares Design】 Die Behälter sind ordentlich und können perfekt übereinander gestapelt werden. Sparen Sie Platz und organisieren Sie Ihre Lebensmittelaufbewahrung ansprechend und ordentlich.',\n",
       "  '【Breite Verwendungsmöglichkeiten】 Sie können dieses Set zum Aufbewahren, Einfrieren, Aufwärmen und Servieren verwenden. Es eignet sich auch für das Mittagessen unterwegs und das Verpacken von Snacks für Kinder. Für die richtige Konservierung Ihrer Lebensmittel über einen längeren Zeitraum.'],\n",
       " 'feature_bullets_count': 5,\n",
       " 'feature_bullets_flat': '【Breite Verwendungsmöglichkeiten】 Sie können dieses Set zum Aufbewahren, Einfrieren, Aufwärmen und Servieren verwenden. Es eignet sich auch für das Mittagessen unterwegs und das Verpacken von Snacks für Kinder. Für die richtige Konservierung Ihrer Lebensmittel über einen längeren Zeitraum. 【Stapelbares Design】 Die Behälter sind ordentlich und können perfekt übereinander gestapelt werden. Sparen Sie Platz und organisieren Sie Ihre Lebensmittelaufbewahrung ansprechend und ordentlich. 【Mikrowellen-, gefrier- und spülmaschinenfest】 Dieser Lebensmittelbehälter ist spülmaschinen-, mikrowellen- und gefriergeeignet. Und beachten Sie, dass Sie die kleine Kappe vom Deckel entfernen, bevor Sie sie in die Mikrowelle stellen, um die Luft während des Erhitzens abzulassen. 【Sicheres Material】 Umweltfreundliches PP/TPU-Material, BPA-frei, grüne Lebensmittelqualität, schmutzabweisendes Material lässt Lebensmittelbehälter aus Kunststoff wie neu aussehen und widersteht Gerüchen; Verhindern Sie unangenehme Lecks oder Verschüttungen in Ihren Taschen oder Ihrem Kühlschrank. 【Lebensmittelbehälter mit großem Fassungsvermögen】 Lebensmittelkonservierungsschale (22 * 15 * 5 cm) hat 2 Verwendungsmöglichkeiten mit vorderen und hinteren Schnappdeckeln, mit Schnappverschluss-Design, guter Dichtwirkung, anhaltender Frische und Blockierung von verdorbenem Geschmack.',\n",
       " 'attributes': [{'name': 'Marke', 'value': 'Colexy'},\n",
       "  {'name': 'Farbe', 'value': 'Grüne'},\n",
       "  {'name': 'Produktabmessungen', 'value': '21L x 13B x 5.5H cm'},\n",
       "  {'name': 'Anzahl der Sets', 'value': '1'},\n",
       "  {'name': 'Besonderes Merkmal', 'value': 'Langlebig'},\n",
       "  {'name': 'Ist Spülmaschinenfest', 'value': 'Ja'},\n",
       "  {'name': 'Anzahl der Einheiten', 'value': '1.0 stück'}],\n",
       " 'buybox_winner': {'maximum_order_quantity': {'value': 30,\n",
       "   'hard_maximum': True},\n",
       "  'is_prime': False,\n",
       "  'is_amazon_fresh': False,\n",
       "  'condition': {'is_new': True},\n",
       "  'availability': {'type': 'in_stock', 'raw': 'Auf Lager', 'dispatch_days': 1},\n",
       "  'fulfillment': {'type': '2p',\n",
       "   'standard_delivery': {'date': 'Donnerstag, 20. April', 'name': 'GRATIS'},\n",
       "   'fastest_delivery': {'date': 'Mittwoch, 19. April',\n",
       "    'name': 'Oder schnellste Lieferung Mittwoch, 19. April. Bestellung innerhalb 11 Stdn. 8 Min.'},\n",
       "   'is_sold_by_amazon': False,\n",
       "   'is_fulfilled_by_amazon': True,\n",
       "   'is_fulfilled_by_third_party': False,\n",
       "   'is_sold_by_third_party': True,\n",
       "   'third_party_seller': {'name': 'chemeikai',\n",
       "    'link': 'https://www.amazon.de/gp/help/seller/at-a-glance.html/ref=dp_merchant_link?ie=UTF8&seller=A1H6XMUWTS9V35&asin=B0BMG63KL4&ref_=dp_merchant_link&isAmazonFulfilled=1',\n",
       "    'id': 'A1H6XMUWTS9V35'}},\n",
       "  'price': {'symbol': '€', 'currency': 'EUR', 'value': 5.99, 'raw': '€5,99'},\n",
       "  'shipping': {'raw': 'GRATIS'}},\n",
       " 'specifications': [{'name': 'Hersteller', 'value': '\\u200eColexy'},\n",
       "  {'name': 'Produktabmessungen', 'value': '\\u200e21 x 13 x 5.5 cm; 170 Gramm'},\n",
       "  {'name': 'Modellnummer', 'value': '\\u200eghyh67u'},\n",
       "  {'name': 'Farbe', 'value': '\\u200eGrüne'},\n",
       "  {'name': 'Spezielle Eigenschaften', 'value': '\\u200eLanglebig'},\n",
       "  {'name': 'Lieferumfang', 'value': '\\u200e1'},\n",
       "  {'name': 'Batterien notwendig', 'value': '\\u200eNein'},\n",
       "  {'name': 'Artikelgewicht', 'value': '\\u200e170 g'},\n",
       "  {'name': 'ASIN', 'value': 'B0BMG63KL4'},\n",
       "  {'name': 'Amazon Bestseller-Rang',\n",
       "   'value': 'Nr. 1,054,442 in Küche, Haushalt & Wohnen'},\n",
       "  {'name': 'Im Angebot von Amazon.de seit', 'value': '15. November 2022'},\n",
       "  {'name': 'Marke', 'value': 'Colexy'},\n",
       "  {'name': 'Farbe', 'value': 'Grüne'},\n",
       "  {'name': 'Produktabmessungen', 'value': '21L x 13B x 5.5H cm'},\n",
       "  {'name': 'Anzahl der Sets', 'value': '1'},\n",
       "  {'name': 'Besonderes Merkmal', 'value': 'Langlebig'},\n",
       "  {'name': 'Ist Spülmaschinenfest', 'value': 'Ja'},\n",
       "  {'name': 'Anzahl der Einheiten', 'value': '1.0 stück'}],\n",
       " 'specifications_flat': 'Anzahl der Einheiten: 1.0 stück. Ist Spülmaschinenfest: Ja. Besonderes Merkmal: Langlebig. Anzahl der Sets: 1. Produktabmessungen: 21L x 13B x 5.5H cm. Farbe: Grüne. Marke: Colexy. Im Angebot von Amazon.de seit: 15. November 2022. Amazon Bestseller-Rang: Nr. 1,054,442 in Küche, Haushalt & Wohnen. ASIN: B0BMG63KL4. Artikelgewicht: \\u200e170 g. Batterien notwendig: \\u200eNein. Lieferumfang: \\u200e1. Spezielle Eigenschaften: \\u200eLanglebig. Farbe: \\u200eGrüne. Modellnummer: \\u200eghyh67u. Produktabmessungen: \\u200e21 x 13 x 5.5 cm; 170 Gramm. Hersteller: \\u200eColexy.',\n",
       " 'bestsellers_rank': [{'category': 'Küche Haushalt & Wohnen',\n",
       "   'rank': 1054442,\n",
       "   'link': 'https://www.amazon.de/gp/bestsellers/kitchen/ref=pd_zg_ts_kitchen'},\n",
       "  {'category': 'Vorratsdosen',\n",
       "   'rank': 4896,\n",
       "   'link': 'https://www.amazon.de/gp/bestsellers/kitchen/3311691/ref=pd_zg_hrsr_kitchen'}],\n",
       " 'color': 'Grüne',\n",
       " 'weight': '\\u200e170 g',\n",
       " 'first_available': {'raw': '15. November 2022',\n",
       "  'utc': '2022-11-15T00:00:00.000Z'},\n",
       " 'dimensions': '21L x 13B x 5.5H cm',\n",
       " 'model_number': '\\u200eghyh67u',\n",
       " 'bestsellers_rank_flat': 'Category: Küche Haushalt & Wohnen | Rank: 1054442, Category: Vorratsdosen | Rank: 4896'}"
      ]
     },
     "execution_count": 26,
     "metadata": {},
     "output_type": "execute_result"
    }
   ],
   "source": [
    "api_json_['product']"
   ]
  },
  {
   "cell_type": "code",
   "execution_count": 31,
   "id": "63ea758b",
   "metadata": {},
   "outputs": [
    {
     "data": {
      "text/plain": [
       "Index(['Hersteller', 'Produktabmessungen', 'Modellnummer', 'Farbe',\n",
       "       'Spezielle Eigenschaften', 'Lieferumfang', 'Batterien notwendig',\n",
       "       'Artikelgewicht', 'ASIN', 'Amazon Bestseller-Rang',\n",
       "       'Im Angebot von Amazon.de seit', 'Marke', 'Farbe', 'Produktabmessungen',\n",
       "       'Anzahl der Sets', 'Besonderes Merkmal', 'Ist Spülmaschinenfest',\n",
       "       'Anzahl der Einheiten', 'title'],\n",
       "      dtype='object')"
      ]
     },
     "execution_count": 31,
     "metadata": {},
     "output_type": "execute_result"
    }
   ],
   "source": [
    "asin_example_col = extract_features(api_json_).columns\n",
    "asin_example_col"
   ]
  },
  {
   "cell_type": "code",
   "execution_count": 160,
   "id": "9208a119",
   "metadata": {},
   "outputs": [
    {
     "data": {
      "text/html": [
       "<div>\n",
       "<style scoped>\n",
       "    .dataframe tbody tr th:only-of-type {\n",
       "        vertical-align: middle;\n",
       "    }\n",
       "\n",
       "    .dataframe tbody tr th {\n",
       "        vertical-align: top;\n",
       "    }\n",
       "\n",
       "    .dataframe thead th {\n",
       "        text-align: right;\n",
       "    }\n",
       "</style>\n",
       "<table border=\"1\" class=\"dataframe\">\n",
       "  <thead>\n",
       "    <tr style=\"text-align: right;\">\n",
       "      <th></th>\n",
       "      <th>Package Dimensions</th>\n",
       "      <th>Item model number</th>\n",
       "      <th>Department</th>\n",
       "      <th>Date First Available</th>\n",
       "      <th>Manufacturer</th>\n",
       "      <th>ASIN</th>\n",
       "      <th>title</th>\n",
       "    </tr>\n",
       "  </thead>\n",
       "  <tbody>\n",
       "    <tr>\n",
       "      <th>0</th>\n",
       "      <td>3.39 x 2.91 x 0.24 inches; 0.71 Ounces</td>\n",
       "      <td>2540-00150</td>\n",
       "      <td>unisex-adult</td>\n",
       "      <td>April 9, 2014</td>\n",
       "      <td>Mammut</td>\n",
       "      <td>B0038ZIY9I</td>\n",
       "      <td>Mammut Dual Adjust Side Squeeze Buckle</td>\n",
       "    </tr>\n",
       "  </tbody>\n",
       "</table>\n",
       "</div>"
      ],
      "text/plain": [
       "                       Package Dimensions Item model number    Department  \\\n",
       "0  3.39 x 2.91 x 0.24 inches; 0.71 Ounces        2540-00150  unisex-adult   \n",
       "\n",
       "  Date First Available Manufacturer        ASIN  \\\n",
       "0        April 9, 2014       Mammut  B0038ZIY9I   \n",
       "\n",
       "                                    title  \n",
       "0  Mammut Dual Adjust Side Squeeze Buckle  "
      ]
     },
     "execution_count": 160,
     "metadata": {},
     "output_type": "execute_result"
    }
   ],
   "source": [
    "extract_features(api_json_)"
   ]
  },
  {
   "cell_type": "markdown",
   "id": "61af36c4",
   "metadata": {},
   "source": [
    "### automate on all asin "
   ]
  },
  {
   "cell_type": "code",
   "execution_count": 39,
   "id": "4a20320d",
   "metadata": {
    "scrolled": true
   },
   "outputs": [
    {
     "name": "stdout",
     "output_type": "stream",
     "text": [
      "B09RDXKH4V\n",
      "B0BMG63KL4\n",
      "B09C823KH1\n",
      "B08GYMPKSQ\n",
      "B08L5QRS6N\n",
      "B092HYB96D\n",
      "B07FPKPQT5\n",
      "B09WLV6BZ5\n",
      "B09LV5PQ9Q\n",
      "B09QKTLJY9\n",
      "CPU times: user 160 ms, sys: 33.5 ms, total: 193 ms\n",
      "Wall time: 1min 51s\n"
     ]
    }
   ],
   "source": [
    "%%time\n",
    "df_all_asin = pd.DataFrame()\n",
    "for asin in asins_df : \n",
    "    print(asin)\n",
    "   \n",
    "    api_json_product = scrap_asin (asin ,rainforest_api_key , amazon_domain )\n",
    "    if api_json_product['request_info']['success'] == True:\n",
    "        df_product = extract_features(api_json_product)\n",
    "        #df_product = df_product.loc[~df_product.index.duplicated(keep='first')]\n",
    "        #df_all_asin = df_all_asin.loc[~df_all_asin.index.duplicated(keep='first')]\n",
    "        #df_product = df_product.reindex(sorted(df_product.columns), axis=1)\n",
    "        #df_all_asin = df_all_asin.append(df_product, ignore_index=True)\n",
    "        #df_all_asin = pd.concat([df_all_asin, df_product])\n",
    "    else  : \n",
    "        print('cannot scrapp  asin number : ', asin )\n",
    "        print( 'the message is : '  ,  api_json_product['request_info']['message'])"
   ]
  },
  {
   "cell_type": "code",
   "execution_count": 41,
   "id": "53f450e5",
   "metadata": {},
   "outputs": [
    {
     "data": {
      "text/html": [
       "<div>\n",
       "<style scoped>\n",
       "    .dataframe tbody tr th:only-of-type {\n",
       "        vertical-align: middle;\n",
       "    }\n",
       "\n",
       "    .dataframe tbody tr th {\n",
       "        vertical-align: top;\n",
       "    }\n",
       "\n",
       "    .dataframe thead th {\n",
       "        text-align: right;\n",
       "    }\n",
       "</style>\n",
       "<table border=\"1\" class=\"dataframe\">\n",
       "  <thead>\n",
       "    <tr style=\"text-align: right;\">\n",
       "      <th></th>\n",
       "      <th>Batterien</th>\n",
       "      <th>Produktabmessungen</th>\n",
       "      <th>Im Angebot von Amazon.de seit</th>\n",
       "      <th>Hersteller</th>\n",
       "      <th>ASIN</th>\n",
       "      <th>Modellnummer</th>\n",
       "      <th>Herkunftsland</th>\n",
       "      <th>Marke</th>\n",
       "      <th>Verbindungstechnologien</th>\n",
       "      <th>Anschlusstyp</th>\n",
       "      <th>Kompatible Geräte</th>\n",
       "      <th>Kompatible Telefonmodelle</th>\n",
       "      <th>Lieferumfang</th>\n",
       "      <th>Besonderes Merkmal</th>\n",
       "      <th>Farbe</th>\n",
       "      <th>Ampere</th>\n",
       "      <th>USB-Anschlüsse insgesamt</th>\n",
       "      <th>Amazon Bestseller-Rang</th>\n",
       "      <th>title</th>\n",
       "    </tr>\n",
       "  </thead>\n",
       "  <tbody>\n",
       "    <tr>\n",
       "      <th>0</th>\n",
       "      <td>4 Lithium-Polymer Batterien erforderlich.</td>\n",
       "      <td>19 x 19 x 10.01 cm; 580 Gramm</td>\n",
       "      <td>20. Januar 2022</td>\n",
       "      <td>FitFasting</td>\n",
       "      <td>B09QKTLJY9</td>\n",
       "      <td>CS-PB-983S-Black</td>\n",
       "      <td>China</td>\n",
       "      <td>FitFasting</td>\n",
       "      <td>USB</td>\n",
       "      <td>Lightning</td>\n",
       "      <td>Compatible with iPhone x, Compatible with iPho...</td>\n",
       "      <td>Smartphones, Samsung iPhone</td>\n",
       "      <td>1*user manual, 1*solar power bank, 1*USB cable</td>\n",
       "      <td>Tragbar</td>\n",
       "      <td>Black819</td>\n",
       "      <td>3 Ampere</td>\n",
       "      <td>2</td>\n",
       "      <td>Siehe Top 100 in Elektronik &amp; Foto</td>\n",
       "      <td>Power Bank, 42800mAh Solar Powerbank Akkupack,...</td>\n",
       "    </tr>\n",
       "  </tbody>\n",
       "</table>\n",
       "</div>"
      ],
      "text/plain": [
       "                                   Batterien             Produktabmessungen  \\\n",
       "0  4 Lithium-Polymer Batterien erforderlich.  19 x 19 x 10.01 cm; 580 Gramm   \n",
       "\n",
       "  Im Angebot von Amazon.de seit  Hersteller        ASIN      Modellnummer  \\\n",
       "0               20. Januar 2022  FitFasting  B09QKTLJY9  CS-PB-983S-Black   \n",
       "\n",
       "  Herkunftsland       Marke Verbindungstechnologien Anschlusstyp  \\\n",
       "0         China  FitFasting                     USB    Lightning   \n",
       "\n",
       "                                   Kompatible Geräte  \\\n",
       "0  Compatible with iPhone x, Compatible with iPho...   \n",
       "\n",
       "     Kompatible Telefonmodelle  \\\n",
       "0  Smartphones, Samsung iPhone   \n",
       "\n",
       "                                     Lieferumfang Besonderes Merkmal  \\\n",
       "0  1*user manual, 1*solar power bank, 1*USB cable            Tragbar   \n",
       "\n",
       "      Farbe    Ampere USB-Anschlüsse insgesamt  \\\n",
       "0  Black819  3 Ampere                        2   \n",
       "\n",
       "               Amazon Bestseller-Rang  \\\n",
       "0  Siehe Top 100 in Elektronik & Foto   \n",
       "\n",
       "                                               title  \n",
       "0  Power Bank, 42800mAh Solar Powerbank Akkupack,...  "
      ]
     },
     "execution_count": 41,
     "metadata": {},
     "output_type": "execute_result"
    }
   ],
   "source": [
    "df_product"
   ]
  },
  {
   "cell_type": "code",
   "execution_count": 40,
   "id": "0908f792",
   "metadata": {},
   "outputs": [
    {
     "data": {
      "text/html": [
       "<div>\n",
       "<style scoped>\n",
       "    .dataframe tbody tr th:only-of-type {\n",
       "        vertical-align: middle;\n",
       "    }\n",
       "\n",
       "    .dataframe tbody tr th {\n",
       "        vertical-align: top;\n",
       "    }\n",
       "\n",
       "    .dataframe thead th {\n",
       "        text-align: right;\n",
       "    }\n",
       "</style>\n",
       "<table border=\"1\" class=\"dataframe\">\n",
       "  <thead>\n",
       "    <tr style=\"text-align: right;\">\n",
       "      <th></th>\n",
       "    </tr>\n",
       "  </thead>\n",
       "  <tbody>\n",
       "  </tbody>\n",
       "</table>\n",
       "</div>"
      ],
      "text/plain": [
       "Empty DataFrame\n",
       "Columns: []\n",
       "Index: []"
      ]
     },
     "execution_count": 40,
     "metadata": {},
     "output_type": "execute_result"
    }
   ],
   "source": [
    "df_all_asin"
   ]
  },
  {
   "cell_type": "code",
   "execution_count": 30,
   "id": "df789ba5",
   "metadata": {},
   "outputs": [
    {
     "data": {
      "text/plain": [
       "Index(['Farbe', 'Batterien inbegriffen', 'Marke', 'Hersteller',\n",
       "       'Herstellerreferenz', 'Produktabmessungen', 'ASIN',\n",
       "       'Im Angebot von Amazon.de seit', 'Amazon Bestseller-Rang', 'Farbe',\n",
       "       'Marke', 'Artikelmaße L x B x H', 'Artikelgewicht',\n",
       "       'Artikelmenge pro Paket', 'title'],\n",
       "      dtype='object')"
      ]
     },
     "execution_count": 30,
     "metadata": {},
     "output_type": "execute_result"
    }
   ],
   "source": [
    "df_all_asin_col = df_all_asin.columns\n",
    "df_all_asin_col"
   ]
  },
  {
   "cell_type": "code",
   "execution_count": 36,
   "id": "85bdc70c",
   "metadata": {},
   "outputs": [
    {
     "data": {
      "text/plain": [
       "Index(['Hersteller', 'Produktabmessungen', 'Modellnummer', 'Farbe',\n",
       "       'Spezielle Eigenschaften', 'Lieferumfang', 'Batterien notwendig',\n",
       "       'Artikelgewicht', 'ASIN', 'Amazon Bestseller-Rang',\n",
       "       'Im Angebot von Amazon.de seit', 'Marke', 'Farbe', 'Produktabmessungen',\n",
       "       'Anzahl der Sets', 'Besonderes Merkmal', 'Ist Spülmaschinenfest',\n",
       "       'Anzahl der Einheiten', 'title'],\n",
       "      dtype='object')"
      ]
     },
     "execution_count": 36,
     "metadata": {},
     "output_type": "execute_result"
    }
   ],
   "source": [
    "asin_example_col"
   ]
  },
  {
   "cell_type": "code",
   "execution_count": 35,
   "id": "74f3b226",
   "metadata": {
    "scrolled": true
   },
   "outputs": [
    {
     "data": {
      "text/plain": [
       "{'Anzahl der Einheiten',\n",
       " 'Anzahl der Sets',\n",
       " 'Batterien notwendig',\n",
       " 'Besonderes Merkmal',\n",
       " 'Ist Spülmaschinenfest',\n",
       " 'Lieferumfang',\n",
       " 'Modellnummer',\n",
       " 'Spezielle Eigenschaften'}"
      ]
     },
     "execution_count": 35,
     "metadata": {},
     "output_type": "execute_result"
    }
   ],
   "source": [
    "set(asin_example_col) - set(df_all_asin_col)"
   ]
  },
  {
   "cell_type": "code",
   "execution_count": 37,
   "id": "73143564",
   "metadata": {},
   "outputs": [
    {
     "data": {
      "text/plain": [
       "{'Artikelmaße L x B x H',\n",
       " 'Artikelmenge pro Paket',\n",
       " 'Batterien inbegriffen',\n",
       " 'Herstellerreferenz'}"
      ]
     },
     "execution_count": 37,
     "metadata": {},
     "output_type": "execute_result"
    }
   ],
   "source": [
    "set(df_all_asin_col)- set(asin_example_col)"
   ]
  }
 ],
 "metadata": {
  "kernelspec": {
   "display_name": "Python 3 (ipykernel)",
   "language": "python",
   "name": "python3"
  },
  "language_info": {
   "codemirror_mode": {
    "name": "ipython",
    "version": 3
   },
   "file_extension": ".py",
   "mimetype": "text/x-python",
   "name": "python",
   "nbconvert_exporter": "python",
   "pygments_lexer": "ipython3",
   "version": "3.8.2"
  }
 },
 "nbformat": 4,
 "nbformat_minor": 5
}
