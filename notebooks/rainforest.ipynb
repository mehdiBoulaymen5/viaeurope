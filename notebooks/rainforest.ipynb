{
 "cells": [
  {
   "cell_type": "markdown",
   "id": "5c905f84",
   "metadata": {},
   "source": [
    "### via europe code "
   ]
  },
  {
   "cell_type": "code",
   "execution_count": 107,
   "id": "5d1c133c",
   "metadata": {},
   "outputs": [],
   "source": [
    "asins = ['B0038ZIY9I',\n",
    "'B0041L70Q6',\n",
    "'B00509CI38',\n",
    "'B005F8U502',\n",
    "'B00B4RT5HW',\n",
    "'B00WDZ9HVI',\n",
    "'B01CYMJEAS',\n",
    "'B01JRXTOIE',\n",
    "'B01N9LYY90',\n",
    "'B06ZXZWB8F',\n",
    "'B072XMZ7J9',\n",
    "'B073LYWDJH',\n",
    "'B074MYSX1Y',\n",
    "'B074P1FX4K',\n",
    "'B075DR9ZPT',\n",
    "'B076DS6BT4']\n"
   ]
  },
  {
   "cell_type": "code",
   "execution_count": 8,
   "id": "fd3cffcb",
   "metadata": {},
   "outputs": [],
   "source": [
    "import requests\n",
    "import json\n",
    "import pandas as pd\n",
    "import openpyxl"
   ]
  },
  {
   "cell_type": "markdown",
   "id": "316f24bf",
   "metadata": {},
   "source": [
    "## rainforest "
   ]
  },
  {
   "cell_type": "code",
   "execution_count": 8,
   "id": "549a562e",
   "metadata": {},
   "outputs": [
    {
     "data": {
      "text/html": [
       "<div>\n",
       "<style scoped>\n",
       "    .dataframe tbody tr th:only-of-type {\n",
       "        vertical-align: middle;\n",
       "    }\n",
       "\n",
       "    .dataframe tbody tr th {\n",
       "        vertical-align: top;\n",
       "    }\n",
       "\n",
       "    .dataframe thead th {\n",
       "        text-align: right;\n",
       "    }\n",
       "</style>\n",
       "<table border=\"1\" class=\"dataframe\">\n",
       "  <thead>\n",
       "    <tr style=\"text-align: right;\">\n",
       "      <th></th>\n",
       "      <th>ASIN</th>\n",
       "      <th>URL</th>\n",
       "      <th>Name</th>\n",
       "      <th>VE Code</th>\n",
       "      <th>VE Duty %</th>\n",
       "      <th>AI Code</th>\n",
       "      <th>AI Duty %</th>\n",
       "      <th>AI Reasoning</th>\n",
       "      <th>Unnamed: 8</th>\n",
       "    </tr>\n",
       "  </thead>\n",
       "  <tbody>\n",
       "    <tr>\n",
       "      <th>0</th>\n",
       "      <td>NaN</td>\n",
       "      <td>Classification</td>\n",
       "      <td>NaN</td>\n",
       "      <td>NaN</td>\n",
       "      <td>NaN</td>\n",
       "      <td>NaN</td>\n",
       "      <td>NaN</td>\n",
       "      <td>NaN</td>\n",
       "      <td>NaN</td>\n",
       "    </tr>\n",
       "    <tr>\n",
       "      <th>1</th>\n",
       "      <td>B09RDXKH4V</td>\n",
       "      <td>https://www.amazon.de/gp/product/B09RDXKH4V</td>\n",
       "      <td>Pyatofyy Key - Scooter Bicycle Headset Wrench...</td>\n",
       "      <td>8.203100e+09</td>\n",
       "      <td>0.017</td>\n",
       "      <td>8.204110e+09</td>\n",
       "      <td>0.017</td>\n",
       "      <td>This Taric code is chosen because the product ...</td>\n",
       "      <td>NaN</td>\n",
       "    </tr>\n",
       "    <tr>\n",
       "      <th>2</th>\n",
       "      <td>B0BMG63KL4</td>\n",
       "      <td>https://www.amazon.de/dp/B0BMG63KL4?ref=myi_ti...</td>\n",
       "      <td>Colexy Fresh System Food Storage Container</td>\n",
       "      <td>3.924100e+09</td>\n",
       "      <td>0.065</td>\n",
       "      <td>3.924100e+09</td>\n",
       "      <td>0.065</td>\n",
       "      <td>I have chosen this Taric code because the prod...</td>\n",
       "      <td>NaN</td>\n",
       "    </tr>\n",
       "    <tr>\n",
       "      <th>3</th>\n",
       "      <td>B09C823KH1</td>\n",
       "      <td>https://www.amazon.de/gp/product/B09C823KH1</td>\n",
       "      <td>Pyatofyy 48 Packs Sign Spacing Screws</td>\n",
       "      <td>7.317008e+09</td>\n",
       "      <td>0.000</td>\n",
       "      <td>8.302420e+09</td>\n",
       "      <td>0.027</td>\n",
       "      <td>I have chosen this Taric code because the prod...</td>\n",
       "      <td>NaN</td>\n",
       "    </tr>\n",
       "    <tr>\n",
       "      <th>4</th>\n",
       "      <td>B08GYMPKSQ</td>\n",
       "      <td>https://www.amazon.de/dp/B08GYMPKSQ</td>\n",
       "      <td>TopHGC Hair Dryer Holder</td>\n",
       "      <td>7.616999e+09</td>\n",
       "      <td>0.060</td>\n",
       "      <td>8.302500e+09</td>\n",
       "      <td>0.027</td>\n",
       "      <td>I have chosen this Taric code because the prod...</td>\n",
       "      <td>NaN</td>\n",
       "    </tr>\n",
       "  </tbody>\n",
       "</table>\n",
       "</div>"
      ],
      "text/plain": [
       "         ASIN                                                URL  \\\n",
       "0         NaN                                     Classification   \n",
       "1  B09RDXKH4V        https://www.amazon.de/gp/product/B09RDXKH4V   \n",
       "2  B0BMG63KL4  https://www.amazon.de/dp/B0BMG63KL4?ref=myi_ti...   \n",
       "3  B09C823KH1        https://www.amazon.de/gp/product/B09C823KH1   \n",
       "4  B08GYMPKSQ                https://www.amazon.de/dp/B08GYMPKSQ   \n",
       "\n",
       "                                                Name       VE Code  VE Duty %  \\\n",
       "0                                                NaN           NaN        NaN   \n",
       "1   Pyatofyy Key - Scooter Bicycle Headset Wrench...  8.203100e+09      0.017   \n",
       "2        Colexy Fresh System Food Storage Container   3.924100e+09      0.065   \n",
       "3             Pyatofyy 48 Packs Sign Spacing Screws   7.317008e+09      0.000   \n",
       "4                          TopHGC Hair Dryer Holder   7.616999e+09      0.060   \n",
       "\n",
       "        AI Code  AI Duty %                                       AI Reasoning  \\\n",
       "0           NaN        NaN                                                NaN   \n",
       "1  8.204110e+09      0.017  This Taric code is chosen because the product ...   \n",
       "2  3.924100e+09      0.065  I have chosen this Taric code because the prod...   \n",
       "3  8.302420e+09      0.027  I have chosen this Taric code because the prod...   \n",
       "4  8.302500e+09      0.027  I have chosen this Taric code because the prod...   \n",
       "\n",
       "  Unnamed: 8  \n",
       "0        NaN  \n",
       "1        NaN  \n",
       "2        NaN  \n",
       "3        NaN  \n",
       "4        NaN  "
      ]
     },
     "execution_count": 8,
     "metadata": {},
     "output_type": "execute_result"
    }
   ],
   "source": [
    "# Read the Excel file into a pandas DataFrame\n",
    "import pandas as pd\n",
    "df = pd.read_excel('../documents/Taric Code_Test file.xlsx')\n",
    "df.head()"
   ]
  },
  {
   "cell_type": "code",
   "execution_count": null,
   "id": "0b674863",
   "metadata": {},
   "outputs": [],
   "source": []
  },
  {
   "cell_type": "code",
   "execution_count": 158,
   "id": "13b12fa3",
   "metadata": {},
   "outputs": [],
   "source": [
    "asin = 'B076DS6BT4'\n",
    "asin = 'B0041L70Q6'\n",
    "asin = 'B0038ZIY9I'# test on one asin \n",
    "rainforest_api_key = '2BE30AF36DC7483AA7FE7E9CA64F46FD'\n",
    "amazon_domain = 'amazon.com'"
   ]
  },
  {
   "cell_type": "code",
   "execution_count": 117,
   "id": "11ec000c",
   "metadata": {},
   "outputs": [],
   "source": [
    "def scrap_asin (asin ,rainforest_api_key , amazon_domain  ):\n",
    "    params = {\n",
    "              'api_key': rainforest_api_key,\n",
    "              'amazon_domain': amazon_domain,\n",
    "              'asin': asin,\n",
    "              'type': 'product'}\n",
    "    api_result = requests.get('https://api.rainforestapi.com/request', params)\n",
    "    api_json = api_result.json()\n",
    "    return api_json "
   ]
  },
  {
   "cell_type": "code",
   "execution_count": 104,
   "id": "5cfb4040",
   "metadata": {},
   "outputs": [],
   "source": [
    "def extract_features(api_json) : \n",
    "    specs = api_json['product']['specifications']\n",
    "    title = api_json['product']['title']\n",
    "    columns = [x['name'] for x in specs]\n",
    "    values = [x['value'] for x in specs]\n",
    "    df_spec = pd.DataFrame([values], columns=columns)\n",
    "    df_spec['title'] = title\n",
    "    return df_spec"
   ]
  },
  {
   "cell_type": "code",
   "execution_count": 159,
   "id": "fd92a22f",
   "metadata": {},
   "outputs": [],
   "source": [
    "\n",
    "api_json_ = scrap_asin (asin ,rainforest_api_key , amazon_domain  )"
   ]
  },
  {
   "cell_type": "code",
   "execution_count": 153,
   "id": "416712a1",
   "metadata": {
    "scrolled": true
   },
   "outputs": [
    {
     "data": {
      "text/plain": [
       "True"
      ]
     },
     "execution_count": 153,
     "metadata": {},
     "output_type": "execute_result"
    }
   ],
   "source": [
    "api_json_['request_info']['success']"
   ]
  },
  {
   "cell_type": "code",
   "execution_count": 154,
   "id": "51631c6d",
   "metadata": {
    "scrolled": true
   },
   "outputs": [
    {
     "name": "stdout",
     "output_type": "stream",
     "text": [
      "title\n",
      "search_alias\n",
      "keywords\n",
      "keywords_list\n",
      "asin\n",
      "link\n",
      "brand\n",
      "sell_on_amazon\n",
      "categories\n",
      "categories_flat\n",
      "description\n",
      "sub_title\n",
      "rating\n",
      "rating_breakdown\n",
      "ratings_total\n",
      "main_image\n",
      "images\n",
      "images_count\n",
      "images_flat\n",
      "is_bundle\n",
      "attributes\n",
      "top_reviews\n",
      "buybox_winner\n",
      "specifications\n",
      "specifications_flat\n",
      "color\n",
      "weight\n",
      "first_available\n",
      "dimensions\n",
      "model_number\n"
     ]
    }
   ],
   "source": [
    "for key in api_json_['product'].keys() : \n",
    "    print(key)"
   ]
  },
  {
   "cell_type": "code",
   "execution_count": 156,
   "id": "1beb76a3",
   "metadata": {},
   "outputs": [
    {
     "data": {
      "text/plain": [
       "'Dajar Porto Milk Jug 210\\xa0ml, Porcelain, White, 11\\xa0x 5,7\\xa0x 9.8\\xa0cm'"
      ]
     },
     "execution_count": 156,
     "metadata": {},
     "output_type": "execute_result"
    }
   ],
   "source": [
    "api_json['product']['title']"
   ]
  },
  {
   "cell_type": "code",
   "execution_count": 163,
   "id": "836f9b1b",
   "metadata": {},
   "outputs": [
    {
     "data": {
      "text/plain": [
       "{'title': 'Mammut Dual Adjust Side Squeeze Buckle',\n",
       " 'search_alias': {'title': 'All Departments', 'value': 'aps'},\n",
       " 'keywords': 'Mammut,Dual,Adjust,Side,Squeeze,Buckle',\n",
       " 'keywords_list': ['Mammut', 'Dual', 'Adjust', 'Side', 'Squeeze', 'Buckle'],\n",
       " 'asin': 'B0038ZIY9I',\n",
       " 'link': 'https://www.amazon.com/Mammut-Dual-Adjust-Squeeze-2540-00150-0001-1015/dp/B0038ZIY9I',\n",
       " 'brand': 'Mammut',\n",
       " 'has_size_guide': True,\n",
       " 'categories': [{'name': 'All Departments'},\n",
       "  {'name': 'Sports & Outdoors',\n",
       "   'link': 'https://www.amazon.com/sports-outdoors/b/ref=dp_bc_aui_C_1?ie=UTF8&node=3375251',\n",
       "   'category_id': '3375251'},\n",
       "  {'name': 'Outdoor Recreation',\n",
       "   'link': 'https://www.amazon.com/outdoor-recreation/b/ref=dp_bc_aui_C_2?ie=UTF8&node=706814011',\n",
       "   'category_id': '706814011'},\n",
       "  {'name': 'Camping & Hiking',\n",
       "   'link': 'https://www.amazon.com/camping-hiking/b/ref=dp_bc_aui_C_3?ie=UTF8&node=3400371',\n",
       "   'category_id': '3400371'},\n",
       "  {'name': 'Backpacks, Bags & Accessories',\n",
       "   'link': 'https://www.amazon.com/Backpacks-Camping-Hiking-Sports-Outdoors/b/ref=dp_bc_aui_C_4?ie=UTF8&node=3400391',\n",
       "   'category_id': '3400391'},\n",
       "  {'name': 'Backpack Accessories',\n",
       "   'link': 'https://www.amazon.com/b/ref=dp_bc_aui_C_5?ie=UTF8&node=3400401',\n",
       "   'category_id': '3400401'},\n",
       "  {'name': 'Pack Pockets',\n",
       "   'link': 'https://www.amazon.com/b/ref=dp_bc_aui_C_6?ie=UTF8&node=3400451',\n",
       "   'category_id': '3400451'}],\n",
       " 'categories_flat': 'All Departments > Sports & Outdoors > Outdoor Recreation > Camping & Hiking > Backpacks, Bags & Accessories > Backpack Accessories > Pack Pockets',\n",
       " 'sub_title': {'text': 'Brand: Mammut',\n",
       "  'link': 'https://www.amazon.com/Mammut/b/ref=bl_sl_s_ap_web_2596036011?ie=UTF8&node=2596036011&field-lbr_brands_browse-bin=Mammut'},\n",
       " 'rating': 4.3,\n",
       " 'rating_breakdown': {'five_star': {'percentage': 62, 'count': 18},\n",
       "  'four_star': {'percentage': 14, 'count': 4},\n",
       "  'three_star': {'percentage': 19, 'count': 5},\n",
       "  'two_star': {'percentage': 0, 'count': 0},\n",
       "  'one_star': {'percentage': 5, 'count': 1}},\n",
       " 'ratings_total': 30,\n",
       " 'main_image': {'link': 'https://m.media-amazon.com/images/I/414jw5N9ePL.jpg'},\n",
       " 'images': [{'link': 'https://m.media-amazon.com/images/I/71iCJXG3enL._AC_UL1500_.jpg',\n",
       "   'variant': 'MAIN'}],\n",
       " 'images_count': 1,\n",
       " 'images_flat': 'https://m.media-amazon.com/images/I/71iCJXG3enL._AC_UL1500_.jpg',\n",
       " 'is_bundle': False,\n",
       " 'top_reviews': [{'id': 'R3DJEZ5TZJK3OQ',\n",
       "   'title': 'Müll!',\n",
       "   'body': 'Unbrauchbare, weil nur 15mm breite Steckschnalle, die auf dem Foto wie eine 38mm Standardschnalle aussieht. Für den Zweck, eine defekte Hüfttaschenschnalle zu ersetzen, eignet sie sich auf Grund des Miniformates, das in der Anzeige nicht deutlich wird oder nicht erwähnt wird, nicht. Für die Rücksendung des 1-€-Artikels soll man dann 4,70€ bezahlen. Offensichtlich versucht hier jemand, auf Kosten der Käufer Geschäfte zu machen. Finger weg!!Read more',\n",
       "   'body_html': '<div data-a-expander-name=\"review_text_read_more\" data-a-expander-collapsed-height=\"300\" class=\"a-expander-collapsed-height a-row a-expander-container a-expander-partial-collapse-container\" style=\"max-height:300px\"><div data-hook=\"review-collapsed\" aria-expanded=\"false\" class=\"a-expander-content reviewText review-text-content a-expander-partial-collapse-content\">           <span class=\"cr-original-review-content\">Unbrauchbare, weil nur 15mm breite Steckschnalle, die auf dem Foto wie eine 38mm Standardschnalle aussieht. Für den Zweck, eine defekte Hüfttaschenschnalle zu ersetzen, eignet sie sich auf Grund des Miniformates, das in der Anzeige nicht deutlich wird oder nicht erwähnt wird, nicht. Für die Rücksendung des 1-€-Artikels soll man dann 4,70€ bezahlen. Offensichtlich versucht hier jemand, auf Kosten der Käufer Geschäfte zu machen. Finger weg!!</span><span class=\"cr-translated-review-content aok-hidden\"></span>     </div><div class=\"a-expander-header a-expander-partial-collapse-header\"><div class=\"a-expander-content-fade\"></div><a href=\"javascript:void(0)\" data-csa-c-func-deps=\"aui-da-a-expander-toggle\" data-csa-c-type=\"widget\" data-csa-interaction-events=\"click\" data-hook=\"expand-collapse-read-more-less\" aria-label=\"Toggle full review text\" aria-expanded=\"false\" role=\"button\" data-action=\"a-expander-toggle\" class=\"a-declarative\" data-a-expander-toggle=\"{&quot;allowLinkDefault&quot;:true, &quot;expand_prompt&quot;:&quot;Read more&quot;, &quot;collapse_prompt&quot;:&quot;Read less&quot;}\"><i class=\"a-icon a-icon-extender-expand\"></i><span class=\"a-expander-prompt\">Read more</span></a></div></div>',\n",
       "   'rating': 1,\n",
       "   'date': {'raw': 'Reviewed in Germany 🇩🇪 on October 31, 2019',\n",
       "    'utc': '2019-10-31T00:00:00.000Z'},\n",
       "   'profile': {'name': 'Chingachgook'},\n",
       "   'vine_program': False,\n",
       "   'verified_purchase': True,\n",
       "   'helpful_votes': 3,\n",
       "   'review_country': 'de',\n",
       "   'is_global_review': True},\n",
       "  {'id': 'R1C773015V4YJZ',\n",
       "   'title': 'Top!',\n",
       "   'body': 'Schnelle Lieferung, und alles wie Erwartet. Die Schnallen scheinen sehr Haltbar und Belastbar zu sein. Werde sie als Ersatzt an meinem Seesack verwenden, den Alten verschluss zerstörten Mitarbeiter des Flughafens wegen kontrollen.Read more',\n",
       "   'body_html': '<div data-a-expander-name=\"review_text_read_more\" data-a-expander-collapsed-height=\"300\" class=\"a-expander-collapsed-height a-row a-expander-container a-expander-partial-collapse-container\" style=\"max-height:300px\"><div data-hook=\"review-collapsed\" aria-expanded=\"false\" class=\"a-expander-content reviewText review-text-content a-expander-partial-collapse-content\">           <span class=\"cr-original-review-content\">Schnelle Lieferung, und alles wie Erwartet.<br>Die Schnallen scheinen sehr Haltbar und Belastbar zu sein.<br>Werde sie als Ersatzt an meinem Seesack verwenden, den Alten verschluss zerstörten Mitarbeiter des Flughafens wegen kontrollen.</span><span class=\"cr-translated-review-content aok-hidden\"></span>     </div><div class=\"a-expander-header a-expander-partial-collapse-header\"><div class=\"a-expander-content-fade\"></div><a href=\"javascript:void(0)\" data-csa-c-func-deps=\"aui-da-a-expander-toggle\" data-csa-c-type=\"widget\" data-csa-interaction-events=\"click\" data-hook=\"expand-collapse-read-more-less\" aria-label=\"Toggle full review text\" aria-expanded=\"false\" role=\"button\" data-action=\"a-expander-toggle\" class=\"a-declarative\" data-a-expander-toggle=\"{&quot;allowLinkDefault&quot;:true, &quot;expand_prompt&quot;:&quot;Read more&quot;, &quot;collapse_prompt&quot;:&quot;Read less&quot;}\"><i class=\"a-icon a-icon-extender-expand\"></i><span class=\"a-expander-prompt\">Read more</span></a></div></div>',\n",
       "   'rating': 5,\n",
       "   'date': {'raw': 'Reviewed in Germany 🇩🇪 on December 12, 2018',\n",
       "    'utc': '2018-12-12T00:00:00.000Z'},\n",
       "   'profile': {'name': 'ace'},\n",
       "   'vine_program': False,\n",
       "   'verified_purchase': True,\n",
       "   'review_country': 'de',\n",
       "   'is_global_review': True},\n",
       "  {'id': 'RDC6MN4MRSVT4',\n",
       "   'title': 'Schnelle Lieferung und top Produkt',\n",
       "   'body': 'Bei meinem Fahrradhelm war die Schnalle kaputt gegangen. Habe mir diese Schnalle bestellt und sie tut was sie soll. Perfekt.Read more',\n",
       "   'body_html': '<div data-a-expander-name=\"review_text_read_more\" data-a-expander-collapsed-height=\"300\" class=\"a-expander-collapsed-height a-row a-expander-container a-expander-partial-collapse-container\" style=\"max-height:300px\"><div data-hook=\"review-collapsed\" aria-expanded=\"false\" class=\"a-expander-content reviewText review-text-content a-expander-partial-collapse-content\">           <span class=\"cr-original-review-content\">Bei meinem Fahrradhelm war die Schnalle kaputt gegangen. Habe mir diese Schnalle bestellt und sie tut was sie soll. Perfekt.</span><span class=\"cr-translated-review-content aok-hidden\"></span>     </div><div class=\"a-expander-header a-expander-partial-collapse-header\"><div class=\"a-expander-content-fade\"></div><a href=\"javascript:void(0)\" data-csa-c-func-deps=\"aui-da-a-expander-toggle\" data-csa-c-type=\"widget\" data-csa-interaction-events=\"click\" data-hook=\"expand-collapse-read-more-less\" aria-label=\"Toggle full review text\" aria-expanded=\"false\" role=\"button\" data-action=\"a-expander-toggle\" class=\"a-declarative\" data-a-expander-toggle=\"{&quot;allowLinkDefault&quot;:true, &quot;expand_prompt&quot;:&quot;Read more&quot;, &quot;collapse_prompt&quot;:&quot;Read less&quot;}\"><i class=\"a-icon a-icon-extender-expand\"></i><span class=\"a-expander-prompt\">Read more</span></a></div></div>',\n",
       "   'rating': 5,\n",
       "   'date': {'raw': 'Reviewed in Germany 🇩🇪 on January 29, 2020',\n",
       "    'utc': '2020-01-29T00:00:00.000Z'},\n",
       "   'profile': {'name': 'Wolfi'},\n",
       "   'vine_program': False,\n",
       "   'verified_purchase': True,\n",
       "   'review_country': 'de',\n",
       "   'is_global_review': True},\n",
       "  {'id': 'R3UCZ1DGR5UKI',\n",
       "   'title': 'macht was es soll',\n",
       "   'body': 'funktioniert, nicht mehr und nicht wenigerRead more',\n",
       "   'body_html': '<div data-a-expander-name=\"review_text_read_more\" data-a-expander-collapsed-height=\"300\" class=\"a-expander-collapsed-height a-row a-expander-container a-expander-partial-collapse-container\" style=\"max-height:300px\"><div data-hook=\"review-collapsed\" aria-expanded=\"false\" class=\"a-expander-content reviewText review-text-content a-expander-partial-collapse-content\">           <span class=\"cr-original-review-content\">funktioniert, nicht mehr und nicht weniger</span><span class=\"cr-translated-review-content aok-hidden\"></span>     </div><div class=\"a-expander-header a-expander-partial-collapse-header\"><div class=\"a-expander-content-fade\"></div><a href=\"javascript:void(0)\" data-csa-c-func-deps=\"aui-da-a-expander-toggle\" data-csa-c-type=\"widget\" data-csa-interaction-events=\"click\" data-hook=\"expand-collapse-read-more-less\" aria-label=\"Toggle full review text\" aria-expanded=\"false\" role=\"button\" data-action=\"a-expander-toggle\" class=\"a-declarative\" data-a-expander-toggle=\"{&quot;allowLinkDefault&quot;:true, &quot;expand_prompt&quot;:&quot;Read more&quot;, &quot;collapse_prompt&quot;:&quot;Read less&quot;}\"><i class=\"a-icon a-icon-extender-expand\"></i><span class=\"a-expander-prompt\">Read more</span></a></div></div>',\n",
       "   'rating': 5,\n",
       "   'date': {'raw': 'Reviewed in Germany 🇩🇪 on September 10, 2022',\n",
       "    'utc': '2022-09-10T00:00:00.000Z'},\n",
       "   'profile': {'name': 'Bassel'},\n",
       "   'vine_program': False,\n",
       "   'verified_purchase': True,\n",
       "   'review_country': 'de',\n",
       "   'is_global_review': True},\n",
       "  {'id': 'R3Q0MHFZ4AUDBI',\n",
       "   'title': 'Perfekt',\n",
       "   'body': 'Alles prima, rasche LieferungRead more',\n",
       "   'body_html': '<div data-a-expander-name=\"review_text_read_more\" data-a-expander-collapsed-height=\"300\" class=\"a-expander-collapsed-height a-row a-expander-container a-expander-partial-collapse-container\" style=\"max-height:300px\"><div data-hook=\"review-collapsed\" aria-expanded=\"false\" class=\"a-expander-content reviewText review-text-content a-expander-partial-collapse-content\">           <span class=\"cr-original-review-content\">Alles prima, rasche Lieferung</span><span class=\"cr-translated-review-content aok-hidden\"></span>     </div><div class=\"a-expander-header a-expander-partial-collapse-header\"><div class=\"a-expander-content-fade\"></div><a href=\"javascript:void(0)\" data-csa-c-func-deps=\"aui-da-a-expander-toggle\" data-csa-c-type=\"widget\" data-csa-interaction-events=\"click\" data-hook=\"expand-collapse-read-more-less\" aria-label=\"Toggle full review text\" aria-expanded=\"false\" role=\"button\" data-action=\"a-expander-toggle\" class=\"a-declarative\" data-a-expander-toggle=\"{&quot;allowLinkDefault&quot;:true, &quot;expand_prompt&quot;:&quot;Read more&quot;, &quot;collapse_prompt&quot;:&quot;Read less&quot;}\"><i class=\"a-icon a-icon-extender-expand\"></i><span class=\"a-expander-prompt\">Read more</span></a></div></div>',\n",
       "   'rating': 5,\n",
       "   'date': {'raw': 'Reviewed in Germany 🇩🇪 on December 3, 2020',\n",
       "    'utc': '2020-12-03T00:00:00.000Z'},\n",
       "   'profile': {'name': 'Christof Keßler'},\n",
       "   'vine_program': False,\n",
       "   'verified_purchase': True,\n",
       "   'review_country': 'de',\n",
       "   'is_global_review': True}],\n",
       " 'buybox_winner': {'maximum_order_quantity': {'value': 2,\n",
       "   'hard_maximum': True},\n",
       "  'new_offers_count': 2,\n",
       "  'new_offers_from': {'symbol': '$',\n",
       "   'value': 10.74,\n",
       "   'currency': 'USD',\n",
       "   'raw': '$10.74 shipping'},\n",
       "  'is_prime': False,\n",
       "  'is_amazon_fresh': False,\n",
       "  'condition': {'is_new': True},\n",
       "  'availability': {'type': 'in_stock', 'raw': 'In stock', 'dispatch_days': 1},\n",
       "  'fulfillment': {'type': '3p',\n",
       "   'standard_delivery': {'date': 'April 20 - 25', 'name': '$10.74'},\n",
       "   'fastest_delivery': {'date': 'April 19 - 24',\n",
       "    'name': 'Or fastest delivery April 19 - 24. Details'},\n",
       "   'is_sold_by_amazon': False,\n",
       "   'is_fulfilled_by_amazon': False,\n",
       "   'is_fulfilled_by_third_party': True,\n",
       "   'is_sold_by_third_party': True,\n",
       "   'third_party_seller': {'name': 'CampSaver',\n",
       "    'link': 'https://www.amazon.com/gp/help/seller/at-a-glance.html/ref=dp_merchant_link?ie=UTF8&seller=A3UKN7BY405ZZ2&asin=B0038ZIY9I&ref_=dp_merchant_link',\n",
       "    'id': 'A3UKN7BY405ZZ2'}},\n",
       "  'price': {'symbol': '$', 'value': 2.5, 'currency': 'USD', 'raw': '$2.50'},\n",
       "  'shipping': {'symbol': '$',\n",
       "   'value': 10.74,\n",
       "   'currency': 'USD',\n",
       "   'raw': '$10.74'}},\n",
       " 'more_buying_choices': [{'price': {'symbol': '$',\n",
       "    'value': 28,\n",
       "    'currency': 'USD',\n",
       "    'raw': '$28.00'},\n",
       "   'seller_name': 'PrimeSportExpert',\n",
       "   'seller_link': 'https://www.amazon.com/gp/aag/main?ie=UTF8&seller=A3QA57OVYA9FBL&isAmazonFulfilled=0&asin=B0038ZIY9I&ref_=dp_mbc_seller',\n",
       "   'free_shipping': True,\n",
       "   'position': 1}],\n",
       " 'specifications': [{'name': 'Package Dimensions',\n",
       "   'value': '3.39 x 2.91 x 0.24 inches; 0.71 Ounces'},\n",
       "  {'name': 'Item model number', 'value': '2540-00150'},\n",
       "  {'name': 'Department', 'value': 'unisex-adult'},\n",
       "  {'name': 'Date First Available', 'value': 'April 9, 2014'},\n",
       "  {'name': 'Manufacturer', 'value': 'Mammut'},\n",
       "  {'name': 'ASIN', 'value': 'B0038ZIY9I'}],\n",
       " 'specifications_flat': 'ASIN: B0038ZIY9I. Manufacturer: Mammut. Date First Available: April 9, 2014. Department: unisex-adult. Item model number: 2540-00150. Package Dimensions: 3.39 x 2.91 x 0.24 inches; 0.71 Ounces.',\n",
       " 'manufacturer': 'Mammut',\n",
       " 'first_available': {'raw': 'April 9, 2014',\n",
       "  'utc': '2014-04-09T00:00:00.000Z'},\n",
       " 'model_number': '2540-00150'}"
      ]
     },
     "execution_count": 163,
     "metadata": {},
     "output_type": "execute_result"
    }
   ],
   "source": [
    "api_json_['product']"
   ]
  },
  {
   "cell_type": "code",
   "execution_count": 157,
   "id": "9fffc26d",
   "metadata": {},
   "outputs": [
    {
     "data": {
      "text/html": [
       "<div>\n",
       "<style scoped>\n",
       "    .dataframe tbody tr th:only-of-type {\n",
       "        vertical-align: middle;\n",
       "    }\n",
       "\n",
       "    .dataframe tbody tr th {\n",
       "        vertical-align: top;\n",
       "    }\n",
       "\n",
       "    .dataframe thead th {\n",
       "        text-align: right;\n",
       "    }\n",
       "</style>\n",
       "<table border=\"1\" class=\"dataframe\">\n",
       "  <thead>\n",
       "    <tr style=\"text-align: right;\">\n",
       "      <th></th>\n",
       "      <th>Item Weight</th>\n",
       "      <th>Product Dimensions</th>\n",
       "      <th>ASIN</th>\n",
       "      <th>Item model number</th>\n",
       "      <th>Customer Reviews</th>\n",
       "      <th>Is Discontinued By Manufacturer</th>\n",
       "      <th>Date First Available</th>\n",
       "      <th>Color Name</th>\n",
       "      <th>Size</th>\n",
       "      <th>Brand</th>\n",
       "      <th>Color</th>\n",
       "      <th>Item Weight</th>\n",
       "      <th>Item Dimensions LxWxH</th>\n",
       "      <th>title</th>\n",
       "    </tr>\n",
       "  </thead>\n",
       "  <tbody>\n",
       "    <tr>\n",
       "      <th>0</th>\n",
       "      <td>0.704 ounces</td>\n",
       "      <td>8.86 x 3.94 x 1.18 inches</td>\n",
       "      <td>B0041L70Q6</td>\n",
       "      <td>8626P</td>\n",
       "      <td>3.8 out of 5 stars        938 ratings         ...</td>\n",
       "      <td>No</td>\n",
       "      <td>October 3, 2014</td>\n",
       "      <td>Multicoloured</td>\n",
       "      <td>One Size</td>\n",
       "      <td>Sancto</td>\n",
       "      <td>Multicoloured</td>\n",
       "      <td>0.02 Kilograms</td>\n",
       "      <td>8.86 x 3.94 x 1.18 inches</td>\n",
       "      <td>Pipes 145Mm Halloween Novelty Toy Weapons And ...</td>\n",
       "    </tr>\n",
       "  </tbody>\n",
       "</table>\n",
       "</div>"
      ],
      "text/plain": [
       "    Item Weight         Product Dimensions        ASIN Item model number  \\\n",
       "0  0.704 ounces  8.86 x 3.94 x 1.18 inches  B0041L70Q6             8626P   \n",
       "\n",
       "                                    Customer Reviews  \\\n",
       "0  3.8 out of 5 stars        938 ratings         ...   \n",
       "\n",
       "  Is Discontinued By Manufacturer Date First Available     Color Name  \\\n",
       "0                              No      October 3, 2014  Multicoloured   \n",
       "\n",
       "       Size   Brand          Color     Item Weight      Item Dimensions LxWxH  \\\n",
       "0  One Size  Sancto  Multicoloured  0.02 Kilograms  8.86 x 3.94 x 1.18 inches   \n",
       "\n",
       "                                               title  \n",
       "0  Pipes 145Mm Halloween Novelty Toy Weapons And ...  "
      ]
     },
     "execution_count": 157,
     "metadata": {},
     "output_type": "execute_result"
    }
   ],
   "source": [
    "extract_features(api_json_)"
   ]
  },
  {
   "cell_type": "code",
   "execution_count": 160,
   "id": "8767b188",
   "metadata": {},
   "outputs": [
    {
     "data": {
      "text/html": [
       "<div>\n",
       "<style scoped>\n",
       "    .dataframe tbody tr th:only-of-type {\n",
       "        vertical-align: middle;\n",
       "    }\n",
       "\n",
       "    .dataframe tbody tr th {\n",
       "        vertical-align: top;\n",
       "    }\n",
       "\n",
       "    .dataframe thead th {\n",
       "        text-align: right;\n",
       "    }\n",
       "</style>\n",
       "<table border=\"1\" class=\"dataframe\">\n",
       "  <thead>\n",
       "    <tr style=\"text-align: right;\">\n",
       "      <th></th>\n",
       "      <th>Package Dimensions</th>\n",
       "      <th>Item model number</th>\n",
       "      <th>Department</th>\n",
       "      <th>Date First Available</th>\n",
       "      <th>Manufacturer</th>\n",
       "      <th>ASIN</th>\n",
       "      <th>title</th>\n",
       "    </tr>\n",
       "  </thead>\n",
       "  <tbody>\n",
       "    <tr>\n",
       "      <th>0</th>\n",
       "      <td>3.39 x 2.91 x 0.24 inches; 0.71 Ounces</td>\n",
       "      <td>2540-00150</td>\n",
       "      <td>unisex-adult</td>\n",
       "      <td>April 9, 2014</td>\n",
       "      <td>Mammut</td>\n",
       "      <td>B0038ZIY9I</td>\n",
       "      <td>Mammut Dual Adjust Side Squeeze Buckle</td>\n",
       "    </tr>\n",
       "  </tbody>\n",
       "</table>\n",
       "</div>"
      ],
      "text/plain": [
       "                       Package Dimensions Item model number    Department  \\\n",
       "0  3.39 x 2.91 x 0.24 inches; 0.71 Ounces        2540-00150  unisex-adult   \n",
       "\n",
       "  Date First Available Manufacturer        ASIN  \\\n",
       "0        April 9, 2014       Mammut  B0038ZIY9I   \n",
       "\n",
       "                                    title  \n",
       "0  Mammut Dual Adjust Side Squeeze Buckle  "
      ]
     },
     "execution_count": 160,
     "metadata": {},
     "output_type": "execute_result"
    }
   ],
   "source": [
    "extract_features(api_json_)"
   ]
  },
  {
   "cell_type": "markdown",
   "id": "abab5617",
   "metadata": {},
   "source": [
    "### automate on all asin "
   ]
  },
  {
   "cell_type": "code",
   "execution_count": 180,
   "id": "392d7924",
   "metadata": {
    "scrolled": true
   },
   "outputs": [
    {
     "name": "stdout",
     "output_type": "stream",
     "text": [
      "B0038ZIY9I\n"
     ]
    },
    {
     "name": "stderr",
     "output_type": "stream",
     "text": [
      "<timed exec>:8: FutureWarning: The frame.append method is deprecated and will be removed from pandas in a future version. Use pandas.concat instead.\n"
     ]
    },
    {
     "name": "stdout",
     "output_type": "stream",
     "text": [
      "B0041L70Q6\n"
     ]
    },
    {
     "name": "stderr",
     "output_type": "stream",
     "text": [
      "<timed exec>:8: FutureWarning: The frame.append method is deprecated and will be removed from pandas in a future version. Use pandas.concat instead.\n"
     ]
    },
    {
     "ename": "InvalidIndexError",
     "evalue": "Reindexing only valid with uniquely valued Index objects",
     "output_type": "error",
     "traceback": [
      "\u001b[0;31m---------------------------------------------------------------------------\u001b[0m",
      "\u001b[0;31mInvalidIndexError\u001b[0m                         Traceback (most recent call last)",
      "File \u001b[0;32m<timed exec>:8\u001b[0m\n",
      "File \u001b[0;32m/opt/anaconda3/lib/python3.8/site-packages/pandas/core/frame.py:9033\u001b[0m, in \u001b[0;36mDataFrame.append\u001b[0;34m(self, other, ignore_index, verify_integrity, sort)\u001b[0m\n\u001b[1;32m   8930\u001b[0m \u001b[38;5;124;03m\"\"\"\u001b[39;00m\n\u001b[1;32m   8931\u001b[0m \u001b[38;5;124;03mAppend rows of `other` to the end of caller, returning a new object.\u001b[39;00m\n\u001b[1;32m   8932\u001b[0m \n\u001b[0;32m   (...)\u001b[0m\n\u001b[1;32m   9023\u001b[0m \u001b[38;5;124;03m4  4\u001b[39;00m\n\u001b[1;32m   9024\u001b[0m \u001b[38;5;124;03m\"\"\"\u001b[39;00m\n\u001b[1;32m   9025\u001b[0m warnings\u001b[38;5;241m.\u001b[39mwarn(\n\u001b[1;32m   9026\u001b[0m     \u001b[38;5;124m\"\u001b[39m\u001b[38;5;124mThe frame.append method is deprecated \u001b[39m\u001b[38;5;124m\"\u001b[39m\n\u001b[1;32m   9027\u001b[0m     \u001b[38;5;124m\"\u001b[39m\u001b[38;5;124mand will be removed from pandas in a future version. \u001b[39m\u001b[38;5;124m\"\u001b[39m\n\u001b[0;32m   (...)\u001b[0m\n\u001b[1;32m   9030\u001b[0m     stacklevel\u001b[38;5;241m=\u001b[39mfind_stack_level(),\n\u001b[1;32m   9031\u001b[0m )\n\u001b[0;32m-> 9033\u001b[0m \u001b[38;5;28;01mreturn\u001b[39;00m \u001b[38;5;28;43mself\u001b[39;49m\u001b[38;5;241;43m.\u001b[39;49m\u001b[43m_append\u001b[49m\u001b[43m(\u001b[49m\u001b[43mother\u001b[49m\u001b[43m,\u001b[49m\u001b[43m \u001b[49m\u001b[43mignore_index\u001b[49m\u001b[43m,\u001b[49m\u001b[43m \u001b[49m\u001b[43mverify_integrity\u001b[49m\u001b[43m,\u001b[49m\u001b[43m \u001b[49m\u001b[43msort\u001b[49m\u001b[43m)\u001b[49m\n",
      "File \u001b[0;32m/opt/anaconda3/lib/python3.8/site-packages/pandas/core/frame.py:9076\u001b[0m, in \u001b[0;36mDataFrame._append\u001b[0;34m(self, other, ignore_index, verify_integrity, sort)\u001b[0m\n\u001b[1;32m   9073\u001b[0m \u001b[38;5;28;01melse\u001b[39;00m:\n\u001b[1;32m   9074\u001b[0m     to_concat \u001b[38;5;241m=\u001b[39m [\u001b[38;5;28mself\u001b[39m, other]\n\u001b[0;32m-> 9076\u001b[0m result \u001b[38;5;241m=\u001b[39m \u001b[43mconcat\u001b[49m\u001b[43m(\u001b[49m\n\u001b[1;32m   9077\u001b[0m \u001b[43m    \u001b[49m\u001b[43mto_concat\u001b[49m\u001b[43m,\u001b[49m\n\u001b[1;32m   9078\u001b[0m \u001b[43m    \u001b[49m\u001b[43mignore_index\u001b[49m\u001b[38;5;241;43m=\u001b[39;49m\u001b[43mignore_index\u001b[49m\u001b[43m,\u001b[49m\n\u001b[1;32m   9079\u001b[0m \u001b[43m    \u001b[49m\u001b[43mverify_integrity\u001b[49m\u001b[38;5;241;43m=\u001b[39;49m\u001b[43mverify_integrity\u001b[49m\u001b[43m,\u001b[49m\n\u001b[1;32m   9080\u001b[0m \u001b[43m    \u001b[49m\u001b[43msort\u001b[49m\u001b[38;5;241;43m=\u001b[39;49m\u001b[43msort\u001b[49m\u001b[43m,\u001b[49m\n\u001b[1;32m   9081\u001b[0m \u001b[43m\u001b[49m\u001b[43m)\u001b[49m\n\u001b[1;32m   9082\u001b[0m \u001b[38;5;28;01mif\u001b[39;00m (\n\u001b[1;32m   9083\u001b[0m     combined_columns \u001b[38;5;129;01mis\u001b[39;00m \u001b[38;5;129;01mnot\u001b[39;00m \u001b[38;5;28;01mNone\u001b[39;00m\n\u001b[1;32m   9084\u001b[0m     \u001b[38;5;129;01mand\u001b[39;00m \u001b[38;5;129;01mnot\u001b[39;00m sort\n\u001b[0;32m   (...)\u001b[0m\n\u001b[1;32m   9089\u001b[0m     \u001b[38;5;66;03m# combined_columns.equals check is necessary for preserving dtype\u001b[39;00m\n\u001b[1;32m   9090\u001b[0m     \u001b[38;5;66;03m#  in test_crosstab_normalize\u001b[39;00m\n\u001b[1;32m   9091\u001b[0m     result \u001b[38;5;241m=\u001b[39m result\u001b[38;5;241m.\u001b[39mreindex(combined_columns, axis\u001b[38;5;241m=\u001b[39m\u001b[38;5;241m1\u001b[39m)\n",
      "File \u001b[0;32m/opt/anaconda3/lib/python3.8/site-packages/pandas/util/_decorators.py:311\u001b[0m, in \u001b[0;36mdeprecate_nonkeyword_arguments.<locals>.decorate.<locals>.wrapper\u001b[0;34m(*args, **kwargs)\u001b[0m\n\u001b[1;32m    305\u001b[0m \u001b[38;5;28;01mif\u001b[39;00m \u001b[38;5;28mlen\u001b[39m(args) \u001b[38;5;241m>\u001b[39m num_allow_args:\n\u001b[1;32m    306\u001b[0m     warnings\u001b[38;5;241m.\u001b[39mwarn(\n\u001b[1;32m    307\u001b[0m         msg\u001b[38;5;241m.\u001b[39mformat(arguments\u001b[38;5;241m=\u001b[39marguments),\n\u001b[1;32m    308\u001b[0m         \u001b[38;5;167;01mFutureWarning\u001b[39;00m,\n\u001b[1;32m    309\u001b[0m         stacklevel\u001b[38;5;241m=\u001b[39mstacklevel,\n\u001b[1;32m    310\u001b[0m     )\n\u001b[0;32m--> 311\u001b[0m \u001b[38;5;28;01mreturn\u001b[39;00m \u001b[43mfunc\u001b[49m\u001b[43m(\u001b[49m\u001b[38;5;241;43m*\u001b[39;49m\u001b[43margs\u001b[49m\u001b[43m,\u001b[49m\u001b[43m \u001b[49m\u001b[38;5;241;43m*\u001b[39;49m\u001b[38;5;241;43m*\u001b[39;49m\u001b[43mkwargs\u001b[49m\u001b[43m)\u001b[49m\n",
      "File \u001b[0;32m/opt/anaconda3/lib/python3.8/site-packages/pandas/core/reshape/concat.py:359\u001b[0m, in \u001b[0;36mconcat\u001b[0;34m(objs, axis, join, ignore_index, keys, levels, names, verify_integrity, sort, copy)\u001b[0m\n\u001b[1;32m    155\u001b[0m \u001b[38;5;124;03m\"\"\"\u001b[39;00m\n\u001b[1;32m    156\u001b[0m \u001b[38;5;124;03mConcatenate pandas objects along a particular axis with optional set logic\u001b[39;00m\n\u001b[1;32m    157\u001b[0m \u001b[38;5;124;03malong the other axes.\u001b[39;00m\n\u001b[0;32m   (...)\u001b[0m\n\u001b[1;32m    344\u001b[0m \u001b[38;5;124;03mValueError: Indexes have overlapping values: ['a']\u001b[39;00m\n\u001b[1;32m    345\u001b[0m \u001b[38;5;124;03m\"\"\"\u001b[39;00m\n\u001b[1;32m    346\u001b[0m op \u001b[38;5;241m=\u001b[39m _Concatenator(\n\u001b[1;32m    347\u001b[0m     objs,\n\u001b[1;32m    348\u001b[0m     axis\u001b[38;5;241m=\u001b[39maxis,\n\u001b[0;32m   (...)\u001b[0m\n\u001b[1;32m    356\u001b[0m     sort\u001b[38;5;241m=\u001b[39msort,\n\u001b[1;32m    357\u001b[0m )\n\u001b[0;32m--> 359\u001b[0m \u001b[38;5;28;01mreturn\u001b[39;00m \u001b[43mop\u001b[49m\u001b[38;5;241;43m.\u001b[39;49m\u001b[43mget_result\u001b[49m\u001b[43m(\u001b[49m\u001b[43m)\u001b[49m\n",
      "File \u001b[0;32m/opt/anaconda3/lib/python3.8/site-packages/pandas/core/reshape/concat.py:588\u001b[0m, in \u001b[0;36m_Concatenator.get_result\u001b[0;34m(self)\u001b[0m\n\u001b[1;32m    586\u001b[0m         obj_labels \u001b[38;5;241m=\u001b[39m obj\u001b[38;5;241m.\u001b[39maxes[\u001b[38;5;241m1\u001b[39m \u001b[38;5;241m-\u001b[39m ax]\n\u001b[1;32m    587\u001b[0m         \u001b[38;5;28;01mif\u001b[39;00m \u001b[38;5;129;01mnot\u001b[39;00m new_labels\u001b[38;5;241m.\u001b[39mequals(obj_labels):\n\u001b[0;32m--> 588\u001b[0m             indexers[ax] \u001b[38;5;241m=\u001b[39m \u001b[43mobj_labels\u001b[49m\u001b[38;5;241;43m.\u001b[39;49m\u001b[43mget_indexer\u001b[49m\u001b[43m(\u001b[49m\u001b[43mnew_labels\u001b[49m\u001b[43m)\u001b[49m\n\u001b[1;32m    590\u001b[0m     mgrs_indexers\u001b[38;5;241m.\u001b[39mappend((obj\u001b[38;5;241m.\u001b[39m_mgr, indexers))\n\u001b[1;32m    592\u001b[0m new_data \u001b[38;5;241m=\u001b[39m concatenate_managers(\n\u001b[1;32m    593\u001b[0m     mgrs_indexers, \u001b[38;5;28mself\u001b[39m\u001b[38;5;241m.\u001b[39mnew_axes, concat_axis\u001b[38;5;241m=\u001b[39m\u001b[38;5;28mself\u001b[39m\u001b[38;5;241m.\u001b[39mbm_axis, copy\u001b[38;5;241m=\u001b[39m\u001b[38;5;28mself\u001b[39m\u001b[38;5;241m.\u001b[39mcopy\n\u001b[1;32m    594\u001b[0m )\n",
      "File \u001b[0;32m/opt/anaconda3/lib/python3.8/site-packages/pandas/core/indexes/base.py:3721\u001b[0m, in \u001b[0;36mIndex.get_indexer\u001b[0;34m(self, target, method, limit, tolerance)\u001b[0m\n\u001b[1;32m   3718\u001b[0m \u001b[38;5;28mself\u001b[39m\u001b[38;5;241m.\u001b[39m_check_indexing_method(method, limit, tolerance)\n\u001b[1;32m   3720\u001b[0m \u001b[38;5;28;01mif\u001b[39;00m \u001b[38;5;129;01mnot\u001b[39;00m \u001b[38;5;28mself\u001b[39m\u001b[38;5;241m.\u001b[39m_index_as_unique:\n\u001b[0;32m-> 3721\u001b[0m     \u001b[38;5;28;01mraise\u001b[39;00m InvalidIndexError(\u001b[38;5;28mself\u001b[39m\u001b[38;5;241m.\u001b[39m_requires_unique_msg)\n\u001b[1;32m   3723\u001b[0m \u001b[38;5;28;01mif\u001b[39;00m \u001b[38;5;28mlen\u001b[39m(target) \u001b[38;5;241m==\u001b[39m \u001b[38;5;241m0\u001b[39m:\n\u001b[1;32m   3724\u001b[0m     \u001b[38;5;28;01mreturn\u001b[39;00m np\u001b[38;5;241m.\u001b[39marray([], dtype\u001b[38;5;241m=\u001b[39mnp\u001b[38;5;241m.\u001b[39mintp)\n",
      "\u001b[0;31mInvalidIndexError\u001b[0m: Reindexing only valid with uniquely valued Index objects"
     ]
    }
   ],
   "source": [
    "%%time\n",
    "df_all_asin = pd.DataFrame()\n",
    "for asin in asins : \n",
    "    print(asin)\n",
    "   \n",
    "    api_json_product = scrap_asin (asin ,rainforest_api_key , amazon_domain )\n",
    "    if api_json_product['request_info']['success'] == True:\n",
    "        df_product = extract_features(api_json_product)\n",
    "        df_all_asin = df_all_asin.append(df_product, ignore_index=True)\n",
    "    else  : \n",
    "        print('cannot scrapp  asin number : ', asin )\n",
    "        print( 'the message is : '  ,  api_json_product['request_info']['message'])"
   ]
  },
  {
   "cell_type": "code",
   "execution_count": 176,
   "id": "221cd209",
   "metadata": {},
   "outputs": [
    {
     "data": {
      "text/html": [
       "<div>\n",
       "<style scoped>\n",
       "    .dataframe tbody tr th:only-of-type {\n",
       "        vertical-align: middle;\n",
       "    }\n",
       "\n",
       "    .dataframe tbody tr th {\n",
       "        vertical-align: top;\n",
       "    }\n",
       "\n",
       "    .dataframe thead th {\n",
       "        text-align: right;\n",
       "    }\n",
       "</style>\n",
       "<table border=\"1\" class=\"dataframe\">\n",
       "  <thead>\n",
       "    <tr style=\"text-align: right;\">\n",
       "      <th></th>\n",
       "      <th>Package Dimensions</th>\n",
       "      <th>Item model number</th>\n",
       "      <th>Department</th>\n",
       "      <th>Date First Available</th>\n",
       "      <th>Manufacturer</th>\n",
       "      <th>ASIN</th>\n",
       "      <th>title</th>\n",
       "      <th>Item Weight</th>\n",
       "      <th>Product Dimensions</th>\n",
       "      <th>ASIN</th>\n",
       "      <th>...</th>\n",
       "      <th>Style</th>\n",
       "      <th>Model Name</th>\n",
       "      <th>Product Dimensions</th>\n",
       "      <th>Item Weight</th>\n",
       "      <th>Manufacturer</th>\n",
       "      <th>ASIN</th>\n",
       "      <th>Item model number</th>\n",
       "      <th>Customer Reviews</th>\n",
       "      <th>Date First Available</th>\n",
       "      <th>title</th>\n",
       "    </tr>\n",
       "  </thead>\n",
       "  <tbody>\n",
       "    <tr>\n",
       "      <th>0</th>\n",
       "      <td>3.39 x 2.91 x 0.24 inches; 0.71 Ounces</td>\n",
       "      <td>2540-00150</td>\n",
       "      <td>unisex-adult</td>\n",
       "      <td>April 9, 2014</td>\n",
       "      <td>Mammut</td>\n",
       "      <td>B0038ZIY9I</td>\n",
       "      <td>Mammut Dual Adjust Side Squeeze Buckle</td>\n",
       "      <td>0.704 ounces</td>\n",
       "      <td>8.86 x 3.94 x 1.18 inches</td>\n",
       "      <td>B0041L70Q6</td>\n",
       "      <td>...</td>\n",
       "      <td>Modern</td>\n",
       "      <td>PORTO</td>\n",
       "      <td>4.33 x 2.24 x 3.86 inches</td>\n",
       "      <td>7 ounces</td>\n",
       "      <td>Ambition</td>\n",
       "      <td>B076DS6BT4</td>\n",
       "      <td>33961</td>\n",
       "      <td>4.3 out of 5 stars        147 ratings         ...</td>\n",
       "      <td>May 31, 2019</td>\n",
       "      <td>Dajar Porto Milk Jug 210 ml, Porcelain, White,...</td>\n",
       "    </tr>\n",
       "  </tbody>\n",
       "</table>\n",
       "<p>1 rows × 110 columns</p>\n",
       "</div>"
      ],
      "text/plain": [
       "                       Package Dimensions Item model number    Department  \\\n",
       "0  3.39 x 2.91 x 0.24 inches; 0.71 Ounces        2540-00150  unisex-adult   \n",
       "\n",
       "  Date First Available Manufacturer        ASIN  \\\n",
       "0        April 9, 2014       Mammut  B0038ZIY9I   \n",
       "\n",
       "                                    title   Item Weight  \\\n",
       "0  Mammut Dual Adjust Side Squeeze Buckle  0.704 ounces   \n",
       "\n",
       "          Product Dimensions        ASIN  ...   Style Model Name  \\\n",
       "0  8.86 x 3.94 x 1.18 inches  B0041L70Q6  ...  Modern      PORTO   \n",
       "\n",
       "          Product Dimensions Item Weight Manufacturer        ASIN  \\\n",
       "0  4.33 x 2.24 x 3.86 inches    7 ounces     Ambition  B076DS6BT4   \n",
       "\n",
       "  Item model number                                   Customer Reviews  \\\n",
       "0             33961  4.3 out of 5 stars        147 ratings         ...   \n",
       "\n",
       "  Date First Available                                              title  \n",
       "0         May 31, 2019  Dajar Porto Milk Jug 210 ml, Porcelain, White,...  \n",
       "\n",
       "[1 rows x 110 columns]"
      ]
     },
     "execution_count": 176,
     "metadata": {},
     "output_type": "execute_result"
    }
   ],
   "source": [
    "df_all_asin"
   ]
  }
 ],
 "metadata": {
  "kernelspec": {
   "display_name": "Python 3 (ipykernel)",
   "language": "python",
   "name": "python3"
  },
  "language_info": {
   "codemirror_mode": {
    "name": "ipython",
    "version": 3
   },
   "file_extension": ".py",
   "mimetype": "text/x-python",
   "name": "python",
   "nbconvert_exporter": "python",
   "pygments_lexer": "ipython3",
   "version": "3.8.2"
  }
 },
 "nbformat": 4,
 "nbformat_minor": 5
}
